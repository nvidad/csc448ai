{
 "cells": [
  {
   "cell_type": "markdown",
   "id": "781f66a1",
   "metadata": {},
   "source": [
    "[![Open In Colab](https://colab.research.google.com/assets/colab-badge.svg)](https://colab.research.google.com/drive/14g84SDul-AR2l5QvkbzRPQkUiLK6XVAL)\n",
    "# Cleaning Up Your Code By Writing Pythonically\n",
    "A few examples of simple ways to write more **readable** and **maintainable** Python."
   ]
  },
  {
   "cell_type": "code",
   "execution_count": 1,
   "id": "4ebefef8",
   "metadata": {},
   "outputs": [
    {
     "name": "stdout",
     "output_type": "stream",
     "text": [
      "Hi, my name is Nezar, I am 21 years old, and my major is Computer Science.\n"
     ]
    }
   ],
   "source": [
    "name = 'Nezar'\n",
    "age = 21\n",
    "major = 'Computer Science'\n",
    "\n",
    "def greeting(name, age, major):\n",
    "    print('Hi, my name is ' + name + ', I am ' + str(age) + ' years old, and my major is ' + major + '.')\n",
    "\n",
    "greeting(name, age, major)"
   ]
  },
  {
   "cell_type": "markdown",
   "id": "befaf0f2",
   "metadata": {},
   "source": [
    "Above, is a simple function that prints out a greeting with a name, age, and major as arguments. While this functionally works, concatenating several strings with plus-signs can be a hassle."
   ]
  },
  {
   "cell_type": "code",
   "execution_count": 2,
   "id": "8a8d818b",
   "metadata": {},
   "outputs": [
    {
     "name": "stdout",
     "output_type": "stream",
     "text": [
      "Hey, my name is Nezar, I am 21 years old, and my major is Computer Science.\n"
     ]
    }
   ],
   "source": [
    "def f_greeting(name, age, major):\n",
    "    print(f'Hey, my name is {name}, I am {str(age)} years old, and my major is {major}.')\n",
    "\n",
    "f_greeting(name, age, major)"
   ]
  },
  {
   "cell_type": "markdown",
   "id": "7e52e5e2",
   "metadata": {},
   "source": [
    "Instead of using plus-signs for string concatenation, this new function uses Python f-strings (formatted string literals). Adding an 'f' in front of the string allows for easy string formatting with variables, as well as making the string more readable and less prone to error."
   ]
  },
  {
   "cell_type": "code",
   "execution_count": 3,
   "id": "b255ab4c",
   "metadata": {},
   "outputs": [
    {
     "name": "stdout",
     "output_type": "stream",
     "text": [
      "1 apple\n",
      "2 banana\n",
      "3 orange\n",
      "4 grape\n",
      "5 kiwi\n"
     ]
    }
   ],
   "source": [
    "fruit_list = ['apple', 'banana', 'orange', 'grape', 'kiwi']\n",
    "for i in range(len(fruit_list)):\n",
    "    print(i+1, fruit_list[i])\n"
   ]
  },
  {
   "cell_type": "markdown",
   "id": "cc74b183",
   "metadata": {},
   "source": [
    "Let's say we want to assign each fruit in the given list a number in order starting from 1. This is how we might first think of writing the code. While, this code works, we can do better with the enumerate function."
   ]
  },
  {
   "cell_type": "code",
   "execution_count": 4,
   "id": "3516ff86",
   "metadata": {},
   "outputs": [
    {
     "name": "stdout",
     "output_type": "stream",
     "text": [
      "1 apple\n",
      "2 banana\n",
      "3 orange\n",
      "4 grape\n",
      "5 kiwi\n"
     ]
    }
   ],
   "source": [
    "for num, fruit in enumerate(fruit_list, 1):\n",
    "    print(num, fruit)"
   ]
  },
  {
   "cell_type": "markdown",
   "id": "598ba976",
   "metadata": {},
   "source": [
    "enumerate(iterable, start) keeps track of how many iterations have occurred as an iterable, such as a list, is iterated over. This allows us to not have to keep track of a separate variable for numbering each fruit, as well as getting each fruit. The starting number can also be set if we wanted to start at 1, instead of adding 1 to the current index of the list as with the previous example."
   ]
  },
  {
   "cell_type": "code",
   "execution_count": 5,
   "id": "3c7c653a",
   "metadata": {},
   "outputs": [
    {
     "name": "stdout",
     "output_type": "stream",
     "text": [
      "Odd numbers: [1, 3, 5, 7, 9]\n",
      "Even numbers: [0, 2, 4, 6, 8, 10]\n"
     ]
    }
   ],
   "source": [
    "numbers = [0, 1, 2, 3, 4, 5, 6, 7, 8, 9, 10]\n",
    "odds = [num for num in numbers if num % 2 != 0]\n",
    "print(f'Odd numbers: {odds}')\n",
    "evens = [num for num in numbers if num % 2 == 0]\n",
    "print(f'Even numbers: {evens}')"
   ]
  },
  {
   "cell_type": "markdown",
   "id": "8c7db7b6",
   "metadata": {},
   "source": [
    "List comprehensions make processing lists more concise and allow for easy filtering. As shown above, we can get all the odd or even numbers from a list by creating a new list, which contains each number of the original list that satisfies the given condition. "
   ]
  }
 ],
 "metadata": {
  "kernelspec": {
   "display_name": "Python 3 (ipykernel)",
   "language": "python",
   "name": "python3"
  },
  "language_info": {
   "codemirror_mode": {
    "name": "ipython",
    "version": 3
   },
   "file_extension": ".py",
   "mimetype": "text/x-python",
   "name": "python",
   "nbconvert_exporter": "python",
   "pygments_lexer": "ipython3",
   "version": "3.9.7"
  }
 },
 "nbformat": 4,
 "nbformat_minor": 5
}
